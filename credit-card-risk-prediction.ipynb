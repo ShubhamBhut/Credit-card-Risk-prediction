{
 "cells": [
  {
   "cell_type": "code",
   "execution_count": 1,
   "id": "3053922e",
   "metadata": {
    "_cell_guid": "b1076dfc-b9ad-4769-8c92-a6c4dae69d19",
    "_uuid": "8f2839f25d086af736a60e9eeb907d3b93b6e0e5",
    "execution": {
     "iopub.execute_input": "2022-09-09T13:46:05.601167Z",
     "iopub.status.busy": "2022-09-09T13:46:05.600464Z",
     "iopub.status.idle": "2022-09-09T13:46:05.621846Z",
     "shell.execute_reply": "2022-09-09T13:46:05.620649Z"
    },
    "papermill": {
     "duration": 0.030273,
     "end_time": "2022-09-09T13:46:05.623684",
     "exception": false,
     "start_time": "2022-09-09T13:46:05.593411",
     "status": "completed"
    },
    "tags": []
   },
   "outputs": [
    {
     "name": "stdout",
     "output_type": "stream",
     "text": [
      "/kaggle/input/credit-risk/credit_risk.csv\n"
     ]
    }
   ],
   "source": [
    "# This Python 3 environment comes with many helpful analytics libraries installed\n",
    "# It is defined by the kaggle/python Docker image: https://github.com/kaggle/docker-python\n",
    "# For example, here's several helpful packages to load\n",
    "\n",
    "import numpy as np # linear algebra\n",
    "import pandas as pd # data processing, CSV file I/O (e.g. pd.read_csv)\n",
    "\n",
    "# Input data files are available in the read-only \"../input/\" directory\n",
    "# For example, running this (by clicking run or pressing Shift+Enter) will list all files under the input directory\n",
    "\n",
    "import os\n",
    "for dirname, _, filenames in os.walk('/kaggle/input'):\n",
    "    for filename in filenames:\n",
    "        print(os.path.join(dirname, filename))\n",
    "\n",
    "# You can write up to 20GB to the current directory (/kaggle/working/) that gets preserved as output when you create a version using \"Save & Run All\" \n",
    "# You can also write temporary files to /kaggle/temp/, but they won't be saved outside of the current session"
   ]
  },
  {
   "cell_type": "code",
   "execution_count": 2,
   "id": "4fa00bed",
   "metadata": {
    "execution": {
     "iopub.execute_input": "2022-09-09T13:46:05.638164Z",
     "iopub.status.busy": "2022-09-09T13:46:05.637865Z",
     "iopub.status.idle": "2022-09-09T13:46:05.641452Z",
     "shell.execute_reply": "2022-09-09T13:46:05.640813Z"
    },
    "papermill": {
     "duration": 0.01285,
     "end_time": "2022-09-09T13:46:05.643203",
     "exception": false,
     "start_time": "2022-09-09T13:46:05.630353",
     "status": "completed"
    },
    "tags": []
   },
   "outputs": [],
   "source": [
    "import numpy as np\n",
    "import pandas as pd"
   ]
  },
  {
   "cell_type": "code",
   "execution_count": 3,
   "id": "8fbfb657",
   "metadata": {
    "execution": {
     "iopub.execute_input": "2022-09-09T13:46:05.657697Z",
     "iopub.status.busy": "2022-09-09T13:46:05.657199Z",
     "iopub.status.idle": "2022-09-09T13:46:05.785855Z",
     "shell.execute_reply": "2022-09-09T13:46:05.784453Z"
    },
    "papermill": {
     "duration": 0.137847,
     "end_time": "2022-09-09T13:46:05.787555",
     "exception": false,
     "start_time": "2022-09-09T13:46:05.649708",
     "status": "completed"
    },
    "tags": []
   },
   "outputs": [
    {
     "data": {
      "text/html": [
       "<div>\n",
       "<style scoped>\n",
       "    .dataframe tbody tr th:only-of-type {\n",
       "        vertical-align: middle;\n",
       "    }\n",
       "\n",
       "    .dataframe tbody tr th {\n",
       "        vertical-align: top;\n",
       "    }\n",
       "\n",
       "    .dataframe thead th {\n",
       "        text-align: right;\n",
       "    }\n",
       "</style>\n",
       "<table border=\"1\" class=\"dataframe\">\n",
       "  <thead>\n",
       "    <tr style=\"text-align: right;\">\n",
       "      <th></th>\n",
       "      <th>ID</th>\n",
       "      <th>LIMIT_BAL</th>\n",
       "      <th>SEX</th>\n",
       "      <th>EDUCATION</th>\n",
       "      <th>MARRIAGE</th>\n",
       "      <th>AGE</th>\n",
       "      <th>PAY_0</th>\n",
       "      <th>PAY_2</th>\n",
       "      <th>PAY_3</th>\n",
       "      <th>PAY_4</th>\n",
       "      <th>...</th>\n",
       "      <th>BILL_AMT4</th>\n",
       "      <th>BILL_AMT5</th>\n",
       "      <th>BILL_AMT6</th>\n",
       "      <th>PAY_AMT1</th>\n",
       "      <th>PAY_AMT2</th>\n",
       "      <th>PAY_AMT3</th>\n",
       "      <th>PAY_AMT4</th>\n",
       "      <th>PAY_AMT5</th>\n",
       "      <th>PAY_AMT6</th>\n",
       "      <th>default.payment.next.month</th>\n",
       "    </tr>\n",
       "  </thead>\n",
       "  <tbody>\n",
       "    <tr>\n",
       "      <th>0</th>\n",
       "      <td>1</td>\n",
       "      <td>20000.0</td>\n",
       "      <td>2</td>\n",
       "      <td>2</td>\n",
       "      <td>1</td>\n",
       "      <td>24</td>\n",
       "      <td>2</td>\n",
       "      <td>2</td>\n",
       "      <td>-1</td>\n",
       "      <td>-1</td>\n",
       "      <td>...</td>\n",
       "      <td>0.0</td>\n",
       "      <td>0.0</td>\n",
       "      <td>0.0</td>\n",
       "      <td>0.0</td>\n",
       "      <td>689.0</td>\n",
       "      <td>0.0</td>\n",
       "      <td>0.0</td>\n",
       "      <td>0.0</td>\n",
       "      <td>0.0</td>\n",
       "      <td>1</td>\n",
       "    </tr>\n",
       "    <tr>\n",
       "      <th>1</th>\n",
       "      <td>2</td>\n",
       "      <td>120000.0</td>\n",
       "      <td>2</td>\n",
       "      <td>2</td>\n",
       "      <td>2</td>\n",
       "      <td>26</td>\n",
       "      <td>-1</td>\n",
       "      <td>2</td>\n",
       "      <td>0</td>\n",
       "      <td>0</td>\n",
       "      <td>...</td>\n",
       "      <td>3272.0</td>\n",
       "      <td>3455.0</td>\n",
       "      <td>3261.0</td>\n",
       "      <td>0.0</td>\n",
       "      <td>1000.0</td>\n",
       "      <td>1000.0</td>\n",
       "      <td>1000.0</td>\n",
       "      <td>0.0</td>\n",
       "      <td>2000.0</td>\n",
       "      <td>1</td>\n",
       "    </tr>\n",
       "    <tr>\n",
       "      <th>2</th>\n",
       "      <td>3</td>\n",
       "      <td>90000.0</td>\n",
       "      <td>2</td>\n",
       "      <td>2</td>\n",
       "      <td>2</td>\n",
       "      <td>34</td>\n",
       "      <td>0</td>\n",
       "      <td>0</td>\n",
       "      <td>0</td>\n",
       "      <td>0</td>\n",
       "      <td>...</td>\n",
       "      <td>14331.0</td>\n",
       "      <td>14948.0</td>\n",
       "      <td>15549.0</td>\n",
       "      <td>1518.0</td>\n",
       "      <td>1500.0</td>\n",
       "      <td>1000.0</td>\n",
       "      <td>1000.0</td>\n",
       "      <td>1000.0</td>\n",
       "      <td>5000.0</td>\n",
       "      <td>0</td>\n",
       "    </tr>\n",
       "    <tr>\n",
       "      <th>3</th>\n",
       "      <td>4</td>\n",
       "      <td>50000.0</td>\n",
       "      <td>2</td>\n",
       "      <td>2</td>\n",
       "      <td>1</td>\n",
       "      <td>37</td>\n",
       "      <td>0</td>\n",
       "      <td>0</td>\n",
       "      <td>0</td>\n",
       "      <td>0</td>\n",
       "      <td>...</td>\n",
       "      <td>28314.0</td>\n",
       "      <td>28959.0</td>\n",
       "      <td>29547.0</td>\n",
       "      <td>2000.0</td>\n",
       "      <td>2019.0</td>\n",
       "      <td>1200.0</td>\n",
       "      <td>1100.0</td>\n",
       "      <td>1069.0</td>\n",
       "      <td>1000.0</td>\n",
       "      <td>0</td>\n",
       "    </tr>\n",
       "    <tr>\n",
       "      <th>4</th>\n",
       "      <td>5</td>\n",
       "      <td>50000.0</td>\n",
       "      <td>1</td>\n",
       "      <td>2</td>\n",
       "      <td>1</td>\n",
       "      <td>57</td>\n",
       "      <td>-1</td>\n",
       "      <td>0</td>\n",
       "      <td>-1</td>\n",
       "      <td>0</td>\n",
       "      <td>...</td>\n",
       "      <td>20940.0</td>\n",
       "      <td>19146.0</td>\n",
       "      <td>19131.0</td>\n",
       "      <td>2000.0</td>\n",
       "      <td>36681.0</td>\n",
       "      <td>10000.0</td>\n",
       "      <td>9000.0</td>\n",
       "      <td>689.0</td>\n",
       "      <td>679.0</td>\n",
       "      <td>0</td>\n",
       "    </tr>\n",
       "    <tr>\n",
       "      <th>5</th>\n",
       "      <td>6</td>\n",
       "      <td>50000.0</td>\n",
       "      <td>1</td>\n",
       "      <td>1</td>\n",
       "      <td>2</td>\n",
       "      <td>37</td>\n",
       "      <td>0</td>\n",
       "      <td>0</td>\n",
       "      <td>0</td>\n",
       "      <td>0</td>\n",
       "      <td>...</td>\n",
       "      <td>19394.0</td>\n",
       "      <td>19619.0</td>\n",
       "      <td>20024.0</td>\n",
       "      <td>2500.0</td>\n",
       "      <td>1815.0</td>\n",
       "      <td>657.0</td>\n",
       "      <td>1000.0</td>\n",
       "      <td>1000.0</td>\n",
       "      <td>800.0</td>\n",
       "      <td>0</td>\n",
       "    </tr>\n",
       "  </tbody>\n",
       "</table>\n",
       "<p>6 rows × 25 columns</p>\n",
       "</div>"
      ],
      "text/plain": [
       "   ID  LIMIT_BAL  SEX  EDUCATION  MARRIAGE  AGE  PAY_0  PAY_2  PAY_3  PAY_4  \\\n",
       "0   1    20000.0    2          2         1   24      2      2     -1     -1   \n",
       "1   2   120000.0    2          2         2   26     -1      2      0      0   \n",
       "2   3    90000.0    2          2         2   34      0      0      0      0   \n",
       "3   4    50000.0    2          2         1   37      0      0      0      0   \n",
       "4   5    50000.0    1          2         1   57     -1      0     -1      0   \n",
       "5   6    50000.0    1          1         2   37      0      0      0      0   \n",
       "\n",
       "   ...  BILL_AMT4  BILL_AMT5  BILL_AMT6  PAY_AMT1  PAY_AMT2  PAY_AMT3  \\\n",
       "0  ...        0.0        0.0        0.0       0.0     689.0       0.0   \n",
       "1  ...     3272.0     3455.0     3261.0       0.0    1000.0    1000.0   \n",
       "2  ...    14331.0    14948.0    15549.0    1518.0    1500.0    1000.0   \n",
       "3  ...    28314.0    28959.0    29547.0    2000.0    2019.0    1200.0   \n",
       "4  ...    20940.0    19146.0    19131.0    2000.0   36681.0   10000.0   \n",
       "5  ...    19394.0    19619.0    20024.0    2500.0    1815.0     657.0   \n",
       "\n",
       "   PAY_AMT4  PAY_AMT5  PAY_AMT6  default.payment.next.month  \n",
       "0       0.0       0.0       0.0                           1  \n",
       "1    1000.0       0.0    2000.0                           1  \n",
       "2    1000.0    1000.0    5000.0                           0  \n",
       "3    1100.0    1069.0    1000.0                           0  \n",
       "4    9000.0     689.0     679.0                           0  \n",
       "5    1000.0    1000.0     800.0                           0  \n",
       "\n",
       "[6 rows x 25 columns]"
      ]
     },
     "execution_count": 3,
     "metadata": {},
     "output_type": "execute_result"
    }
   ],
   "source": [
    "credit_df = pd.read_csv(\"../input/credit-risk/credit_risk.csv\")\n",
    "credit_df.head(6)"
   ]
  },
  {
   "cell_type": "code",
   "execution_count": 4,
   "id": "72aac21e",
   "metadata": {
    "execution": {
     "iopub.execute_input": "2022-09-09T13:46:05.804208Z",
     "iopub.status.busy": "2022-09-09T13:46:05.803242Z",
     "iopub.status.idle": "2022-09-09T13:46:05.815779Z",
     "shell.execute_reply": "2022-09-09T13:46:05.813976Z"
    },
    "papermill": {
     "duration": 0.024681,
     "end_time": "2022-09-09T13:46:05.818444",
     "exception": false,
     "start_time": "2022-09-09T13:46:05.793763",
     "status": "completed"
    },
    "tags": []
   },
   "outputs": [],
   "source": [
    "#We donn't need ID, so dropping it\n",
    "credit_df = credit_df.drop([\"ID\"], axis=1)"
   ]
  },
  {
   "cell_type": "code",
   "execution_count": 5,
   "id": "31e504df",
   "metadata": {
    "execution": {
     "iopub.execute_input": "2022-09-09T13:46:05.832137Z",
     "iopub.status.busy": "2022-09-09T13:46:05.831853Z",
     "iopub.status.idle": "2022-09-09T13:46:05.838881Z",
     "shell.execute_reply": "2022-09-09T13:46:05.838045Z"
    },
    "papermill": {
     "duration": 0.015846,
     "end_time": "2022-09-09T13:46:05.840597",
     "exception": false,
     "start_time": "2022-09-09T13:46:05.824751",
     "status": "completed"
    },
    "tags": []
   },
   "outputs": [],
   "source": [
    "#renaming PAY_0 to PAY_1 for correct numbering\n",
    "credit_df.rename(columns={\"PAY_0\":\"PAY_1\"}, inplace=True)"
   ]
  },
  {
   "cell_type": "code",
   "execution_count": 6,
   "id": "050fde6d",
   "metadata": {
    "execution": {
     "iopub.execute_input": "2022-09-09T13:46:05.853882Z",
     "iopub.status.busy": "2022-09-09T13:46:05.853059Z",
     "iopub.status.idle": "2022-09-09T13:46:05.877400Z",
     "shell.execute_reply": "2022-09-09T13:46:05.876492Z"
    },
    "papermill": {
     "duration": 0.032759,
     "end_time": "2022-09-09T13:46:05.879358",
     "exception": false,
     "start_time": "2022-09-09T13:46:05.846599",
     "status": "completed"
    },
    "tags": []
   },
   "outputs": [
    {
     "data": {
      "text/html": [
       "<div>\n",
       "<style scoped>\n",
       "    .dataframe tbody tr th:only-of-type {\n",
       "        vertical-align: middle;\n",
       "    }\n",
       "\n",
       "    .dataframe tbody tr th {\n",
       "        vertical-align: top;\n",
       "    }\n",
       "\n",
       "    .dataframe thead th {\n",
       "        text-align: right;\n",
       "    }\n",
       "</style>\n",
       "<table border=\"1\" class=\"dataframe\">\n",
       "  <thead>\n",
       "    <tr style=\"text-align: right;\">\n",
       "      <th></th>\n",
       "      <th>LIMIT_BAL</th>\n",
       "      <th>SEX</th>\n",
       "      <th>EDUCATION</th>\n",
       "      <th>MARRIAGE</th>\n",
       "      <th>AGE</th>\n",
       "      <th>PAY_1</th>\n",
       "      <th>PAY_2</th>\n",
       "      <th>PAY_3</th>\n",
       "      <th>PAY_4</th>\n",
       "      <th>PAY_5</th>\n",
       "      <th>...</th>\n",
       "      <th>BILL_AMT4</th>\n",
       "      <th>BILL_AMT5</th>\n",
       "      <th>BILL_AMT6</th>\n",
       "      <th>PAY_AMT1</th>\n",
       "      <th>PAY_AMT2</th>\n",
       "      <th>PAY_AMT3</th>\n",
       "      <th>PAY_AMT4</th>\n",
       "      <th>PAY_AMT5</th>\n",
       "      <th>PAY_AMT6</th>\n",
       "      <th>default.payment.next.month</th>\n",
       "    </tr>\n",
       "  </thead>\n",
       "  <tbody>\n",
       "    <tr>\n",
       "      <th>0</th>\n",
       "      <td>20000.0</td>\n",
       "      <td>2</td>\n",
       "      <td>2</td>\n",
       "      <td>1</td>\n",
       "      <td>24</td>\n",
       "      <td>2</td>\n",
       "      <td>2</td>\n",
       "      <td>-1</td>\n",
       "      <td>-1</td>\n",
       "      <td>-2</td>\n",
       "      <td>...</td>\n",
       "      <td>0.0</td>\n",
       "      <td>0.0</td>\n",
       "      <td>0.0</td>\n",
       "      <td>0.0</td>\n",
       "      <td>689.0</td>\n",
       "      <td>0.0</td>\n",
       "      <td>0.0</td>\n",
       "      <td>0.0</td>\n",
       "      <td>0.0</td>\n",
       "      <td>1</td>\n",
       "    </tr>\n",
       "    <tr>\n",
       "      <th>1</th>\n",
       "      <td>120000.0</td>\n",
       "      <td>2</td>\n",
       "      <td>2</td>\n",
       "      <td>2</td>\n",
       "      <td>26</td>\n",
       "      <td>-1</td>\n",
       "      <td>2</td>\n",
       "      <td>0</td>\n",
       "      <td>0</td>\n",
       "      <td>0</td>\n",
       "      <td>...</td>\n",
       "      <td>3272.0</td>\n",
       "      <td>3455.0</td>\n",
       "      <td>3261.0</td>\n",
       "      <td>0.0</td>\n",
       "      <td>1000.0</td>\n",
       "      <td>1000.0</td>\n",
       "      <td>1000.0</td>\n",
       "      <td>0.0</td>\n",
       "      <td>2000.0</td>\n",
       "      <td>1</td>\n",
       "    </tr>\n",
       "    <tr>\n",
       "      <th>2</th>\n",
       "      <td>90000.0</td>\n",
       "      <td>2</td>\n",
       "      <td>2</td>\n",
       "      <td>2</td>\n",
       "      <td>34</td>\n",
       "      <td>0</td>\n",
       "      <td>0</td>\n",
       "      <td>0</td>\n",
       "      <td>0</td>\n",
       "      <td>0</td>\n",
       "      <td>...</td>\n",
       "      <td>14331.0</td>\n",
       "      <td>14948.0</td>\n",
       "      <td>15549.0</td>\n",
       "      <td>1518.0</td>\n",
       "      <td>1500.0</td>\n",
       "      <td>1000.0</td>\n",
       "      <td>1000.0</td>\n",
       "      <td>1000.0</td>\n",
       "      <td>5000.0</td>\n",
       "      <td>0</td>\n",
       "    </tr>\n",
       "    <tr>\n",
       "      <th>3</th>\n",
       "      <td>50000.0</td>\n",
       "      <td>2</td>\n",
       "      <td>2</td>\n",
       "      <td>1</td>\n",
       "      <td>37</td>\n",
       "      <td>0</td>\n",
       "      <td>0</td>\n",
       "      <td>0</td>\n",
       "      <td>0</td>\n",
       "      <td>0</td>\n",
       "      <td>...</td>\n",
       "      <td>28314.0</td>\n",
       "      <td>28959.0</td>\n",
       "      <td>29547.0</td>\n",
       "      <td>2000.0</td>\n",
       "      <td>2019.0</td>\n",
       "      <td>1200.0</td>\n",
       "      <td>1100.0</td>\n",
       "      <td>1069.0</td>\n",
       "      <td>1000.0</td>\n",
       "      <td>0</td>\n",
       "    </tr>\n",
       "    <tr>\n",
       "      <th>4</th>\n",
       "      <td>50000.0</td>\n",
       "      <td>1</td>\n",
       "      <td>2</td>\n",
       "      <td>1</td>\n",
       "      <td>57</td>\n",
       "      <td>-1</td>\n",
       "      <td>0</td>\n",
       "      <td>-1</td>\n",
       "      <td>0</td>\n",
       "      <td>0</td>\n",
       "      <td>...</td>\n",
       "      <td>20940.0</td>\n",
       "      <td>19146.0</td>\n",
       "      <td>19131.0</td>\n",
       "      <td>2000.0</td>\n",
       "      <td>36681.0</td>\n",
       "      <td>10000.0</td>\n",
       "      <td>9000.0</td>\n",
       "      <td>689.0</td>\n",
       "      <td>679.0</td>\n",
       "      <td>0</td>\n",
       "    </tr>\n",
       "  </tbody>\n",
       "</table>\n",
       "<p>5 rows × 24 columns</p>\n",
       "</div>"
      ],
      "text/plain": [
       "   LIMIT_BAL  SEX  EDUCATION  MARRIAGE  AGE  PAY_1  PAY_2  PAY_3  PAY_4  \\\n",
       "0    20000.0    2          2         1   24      2      2     -1     -1   \n",
       "1   120000.0    2          2         2   26     -1      2      0      0   \n",
       "2    90000.0    2          2         2   34      0      0      0      0   \n",
       "3    50000.0    2          2         1   37      0      0      0      0   \n",
       "4    50000.0    1          2         1   57     -1      0     -1      0   \n",
       "\n",
       "   PAY_5  ...  BILL_AMT4  BILL_AMT5  BILL_AMT6  PAY_AMT1  PAY_AMT2  PAY_AMT3  \\\n",
       "0     -2  ...        0.0        0.0        0.0       0.0     689.0       0.0   \n",
       "1      0  ...     3272.0     3455.0     3261.0       0.0    1000.0    1000.0   \n",
       "2      0  ...    14331.0    14948.0    15549.0    1518.0    1500.0    1000.0   \n",
       "3      0  ...    28314.0    28959.0    29547.0    2000.0    2019.0    1200.0   \n",
       "4      0  ...    20940.0    19146.0    19131.0    2000.0   36681.0   10000.0   \n",
       "\n",
       "   PAY_AMT4  PAY_AMT5  PAY_AMT6  default.payment.next.month  \n",
       "0       0.0       0.0       0.0                           1  \n",
       "1    1000.0       0.0    2000.0                           1  \n",
       "2    1000.0    1000.0    5000.0                           0  \n",
       "3    1100.0    1069.0    1000.0                           0  \n",
       "4    9000.0     689.0     679.0                           0  \n",
       "\n",
       "[5 rows x 24 columns]"
      ]
     },
     "execution_count": 6,
     "metadata": {},
     "output_type": "execute_result"
    }
   ],
   "source": [
    "credit_df.head()"
   ]
  },
  {
   "cell_type": "code",
   "execution_count": 7,
   "id": "2e4f5e22",
   "metadata": {
    "execution": {
     "iopub.execute_input": "2022-09-09T13:46:05.896573Z",
     "iopub.status.busy": "2022-09-09T13:46:05.894842Z",
     "iopub.status.idle": "2022-09-09T13:46:05.907073Z",
     "shell.execute_reply": "2022-09-09T13:46:05.906120Z"
    },
    "papermill": {
     "duration": 0.022458,
     "end_time": "2022-09-09T13:46:05.909074",
     "exception": false,
     "start_time": "2022-09-09T13:46:05.886616",
     "status": "completed"
    },
    "tags": []
   },
   "outputs": [
    {
     "data": {
      "text/plain": [
       "2    14030\n",
       "1    10585\n",
       "3     4917\n",
       "5      280\n",
       "4      123\n",
       "6       51\n",
       "0       14\n",
       "Name: EDUCATION, dtype: int64"
      ]
     },
     "execution_count": 7,
     "metadata": {},
     "output_type": "execute_result"
    }
   ],
   "source": [
    "credit_df['EDUCATION'].value_counts()"
   ]
  },
  {
   "cell_type": "code",
   "execution_count": 8,
   "id": "73abeeef",
   "metadata": {
    "execution": {
     "iopub.execute_input": "2022-09-09T13:46:05.921426Z",
     "iopub.status.busy": "2022-09-09T13:46:05.921094Z",
     "iopub.status.idle": "2022-09-09T13:46:05.928008Z",
     "shell.execute_reply": "2022-09-09T13:46:05.927366Z"
    },
    "papermill": {
     "duration": 0.015062,
     "end_time": "2022-09-09T13:46:05.929673",
     "exception": false,
     "start_time": "2022-09-09T13:46:05.914611",
     "status": "completed"
    },
    "tags": []
   },
   "outputs": [],
   "source": [
    "#Merging all higher education above 4(University) into 4 as well as merging 0 and 3 marriages \n",
    "credit_df[\"EDUCATION\"]=credit_df[\"EDUCATION\"].map({0:4,1:1,2:2,3:3,4:4,5:4,6:4})\n",
    "credit_df[\"MARRIAGE\"]=credit_df[\"MARRIAGE\"].map({0:3,1:1,2:2,3:3})"
   ]
  },
  {
   "cell_type": "code",
   "execution_count": 9,
   "id": "e0ffab4d",
   "metadata": {
    "execution": {
     "iopub.execute_input": "2022-09-09T13:46:05.942148Z",
     "iopub.status.busy": "2022-09-09T13:46:05.941852Z",
     "iopub.status.idle": "2022-09-09T13:46:06.927378Z",
     "shell.execute_reply": "2022-09-09T13:46:06.926420Z"
    },
    "papermill": {
     "duration": 0.994424,
     "end_time": "2022-09-09T13:46:06.929591",
     "exception": false,
     "start_time": "2022-09-09T13:46:05.935167",
     "status": "completed"
    },
    "tags": []
   },
   "outputs": [],
   "source": [
    "from sklearn.preprocessing import StandardScaler\n",
    "scaling = StandardScaler()\n",
    "X = credit_df.drop(['default.payment.next.month'], axis = 1)\n",
    "X = scaling.fit_transform(X)"
   ]
  },
  {
   "cell_type": "code",
   "execution_count": 10,
   "id": "05984ab7",
   "metadata": {
    "execution": {
     "iopub.execute_input": "2022-09-09T13:46:06.943371Z",
     "iopub.status.busy": "2022-09-09T13:46:06.943025Z",
     "iopub.status.idle": "2022-09-09T13:46:06.948153Z",
     "shell.execute_reply": "2022-09-09T13:46:06.947202Z"
    },
    "papermill": {
     "duration": 0.01399,
     "end_time": "2022-09-09T13:46:06.950193",
     "exception": false,
     "start_time": "2022-09-09T13:46:06.936203",
     "status": "completed"
    },
    "tags": []
   },
   "outputs": [],
   "source": [
    "Y = credit_df['default.payment.next.month']"
   ]
  },
  {
   "cell_type": "code",
   "execution_count": 11,
   "id": "8979f29f",
   "metadata": {
    "execution": {
     "iopub.execute_input": "2022-09-09T13:46:06.962468Z",
     "iopub.status.busy": "2022-09-09T13:46:06.962122Z",
     "iopub.status.idle": "2022-09-09T13:46:06.968249Z",
     "shell.execute_reply": "2022-09-09T13:46:06.967557Z"
    },
    "papermill": {
     "duration": 0.014623,
     "end_time": "2022-09-09T13:46:06.970319",
     "exception": false,
     "start_time": "2022-09-09T13:46:06.955696",
     "status": "completed"
    },
    "tags": []
   },
   "outputs": [],
   "source": [
    "## Hyper Parameter Optimization\n",
    "\n",
    "params={\n",
    " \"learning_rate\"    : [0.05, 0.10, 0.15, 0.20, 0.25, 0.30 ] ,\n",
    " \"max_depth\"        : [ 3, 4, 5, 6, 8, 10, 12, 15],\n",
    " \"min_child_weight\" : [ 1, 3, 5, 7 ],\n",
    " \"gamma\"            : [ 0.0, 0.1, 0.2 , 0.3, 0.4 ],\n",
    " \"colsample_bytree\" : [ 0.3, 0.4, 0.5 , 0.7 ]\n",
    "    \n",
    "}"
   ]
  },
  {
   "cell_type": "code",
   "execution_count": 12,
   "id": "99dc1c5a",
   "metadata": {
    "execution": {
     "iopub.execute_input": "2022-09-09T13:46:06.982668Z",
     "iopub.status.busy": "2022-09-09T13:46:06.982113Z",
     "iopub.status.idle": "2022-09-09T13:46:07.162763Z",
     "shell.execute_reply": "2022-09-09T13:46:07.161354Z"
    },
    "papermill": {
     "duration": 0.18915,
     "end_time": "2022-09-09T13:46:07.164964",
     "exception": false,
     "start_time": "2022-09-09T13:46:06.975814",
     "status": "completed"
    },
    "tags": []
   },
   "outputs": [],
   "source": [
    "## Hyperparameter optimization using RandomizedSearchCV\n",
    "from sklearn.model_selection import RandomizedSearchCV, GridSearchCV\n",
    "import xgboost"
   ]
  },
  {
   "cell_type": "code",
   "execution_count": 13,
   "id": "8f2211fc",
   "metadata": {
    "execution": {
     "iopub.execute_input": "2022-09-09T13:46:07.178898Z",
     "iopub.status.busy": "2022-09-09T13:46:07.178524Z",
     "iopub.status.idle": "2022-09-09T13:46:07.185821Z",
     "shell.execute_reply": "2022-09-09T13:46:07.184522Z"
    },
    "papermill": {
     "duration": 0.016402,
     "end_time": "2022-09-09T13:46:07.187962",
     "exception": false,
     "start_time": "2022-09-09T13:46:07.171560",
     "status": "completed"
    },
    "tags": []
   },
   "outputs": [],
   "source": [
    "def timer(start_time=None):\n",
    "    if not start_time:\n",
    "        start_time = datetime.now()\n",
    "        return start_time\n",
    "    elif start_time:\n",
    "        thour, temp_sec = divmod((datetime.now() - start_time).total_seconds(), 3600)\n",
    "        tmin, tsec = divmod(temp_sec, 60)\n",
    "        print('\\n Time taken: %i hours %i minutes and %s seconds.' % (thour, tmin, round(tsec, 2)))"
   ]
  },
  {
   "cell_type": "code",
   "execution_count": 14,
   "id": "40dffed9",
   "metadata": {
    "execution": {
     "iopub.execute_input": "2022-09-09T13:46:07.203114Z",
     "iopub.status.busy": "2022-09-09T13:46:07.202456Z",
     "iopub.status.idle": "2022-09-09T13:46:07.207050Z",
     "shell.execute_reply": "2022-09-09T13:46:07.206007Z"
    },
    "papermill": {
     "duration": 0.014796,
     "end_time": "2022-09-09T13:46:07.208905",
     "exception": false,
     "start_time": "2022-09-09T13:46:07.194109",
     "status": "completed"
    },
    "tags": []
   },
   "outputs": [],
   "source": [
    "classifier=xgboost.XGBClassifier()"
   ]
  },
  {
   "cell_type": "code",
   "execution_count": 15,
   "id": "3fcd32f4",
   "metadata": {
    "execution": {
     "iopub.execute_input": "2022-09-09T13:46:07.221225Z",
     "iopub.status.busy": "2022-09-09T13:46:07.220236Z",
     "iopub.status.idle": "2022-09-09T13:46:07.225029Z",
     "shell.execute_reply": "2022-09-09T13:46:07.224505Z"
    },
    "papermill": {
     "duration": 0.012569,
     "end_time": "2022-09-09T13:46:07.226882",
     "exception": false,
     "start_time": "2022-09-09T13:46:07.214313",
     "status": "completed"
    },
    "tags": []
   },
   "outputs": [],
   "source": [
    "random_search=RandomizedSearchCV(classifier,param_distributions=params,n_iter=5,scoring='roc_auc',n_jobs=-1,cv=5,verbose=3)"
   ]
  },
  {
   "cell_type": "code",
   "execution_count": 16,
   "id": "0d04a126",
   "metadata": {
    "execution": {
     "iopub.execute_input": "2022-09-09T13:46:07.238954Z",
     "iopub.status.busy": "2022-09-09T13:46:07.238406Z",
     "iopub.status.idle": "2022-09-09T13:46:51.578726Z",
     "shell.execute_reply": "2022-09-09T13:46:51.577439Z"
    },
    "papermill": {
     "duration": 44.349024,
     "end_time": "2022-09-09T13:46:51.581194",
     "exception": false,
     "start_time": "2022-09-09T13:46:07.232170",
     "status": "completed"
    },
    "tags": []
   },
   "outputs": [
    {
     "name": "stdout",
     "output_type": "stream",
     "text": [
      "Fitting 5 folds for each of 5 candidates, totalling 25 fits\n",
      "\n",
      " Time taken: 0 hours 0 minutes and 44.33 seconds.\n"
     ]
    }
   ],
   "source": [
    "from datetime import datetime\n",
    "\n",
    "start_time = timer(None) # timing starts from this point for \"start_time\" variable\n",
    "random_search.fit(X,Y)\n",
    "timer(start_time) # timing ends here for \"start_time\" variable"
   ]
  },
  {
   "cell_type": "code",
   "execution_count": 17,
   "id": "0caebbe4",
   "metadata": {
    "execution": {
     "iopub.execute_input": "2022-09-09T13:46:51.594437Z",
     "iopub.status.busy": "2022-09-09T13:46:51.594034Z",
     "iopub.status.idle": "2022-09-09T13:46:51.608182Z",
     "shell.execute_reply": "2022-09-09T13:46:51.606311Z"
    },
    "papermill": {
     "duration": 0.023729,
     "end_time": "2022-09-09T13:46:51.610757",
     "exception": false,
     "start_time": "2022-09-09T13:46:51.587028",
     "status": "completed"
    },
    "tags": []
   },
   "outputs": [
    {
     "data": {
      "text/plain": [
       "XGBClassifier(base_score=0.5, booster='gbtree', callbacks=None,\n",
       "              colsample_bylevel=1, colsample_bynode=1, colsample_bytree=0.4,\n",
       "              early_stopping_rounds=None, enable_categorical=False,\n",
       "              eval_metric=None, gamma=0.1, gpu_id=-1, grow_policy='depthwise',\n",
       "              importance_type=None, interaction_constraints='',\n",
       "              learning_rate=0.05, max_bin=256, max_cat_to_onehot=4,\n",
       "              max_delta_step=0, max_depth=10, max_leaves=0, min_child_weight=5,\n",
       "              missing=nan, monotone_constraints='()', n_estimators=100,\n",
       "              n_jobs=0, num_parallel_tree=1, predictor='auto', random_state=0,\n",
       "              reg_alpha=0, reg_lambda=1, ...)"
      ]
     },
     "execution_count": 17,
     "metadata": {},
     "output_type": "execute_result"
    }
   ],
   "source": [
    "random_search.best_estimator_"
   ]
  },
  {
   "cell_type": "code",
   "execution_count": 18,
   "id": "06c69b74",
   "metadata": {
    "execution": {
     "iopub.execute_input": "2022-09-09T13:46:51.623701Z",
     "iopub.status.busy": "2022-09-09T13:46:51.623395Z",
     "iopub.status.idle": "2022-09-09T13:46:51.630472Z",
     "shell.execute_reply": "2022-09-09T13:46:51.629294Z"
    },
    "papermill": {
     "duration": 0.015997,
     "end_time": "2022-09-09T13:46:51.632600",
     "exception": false,
     "start_time": "2022-09-09T13:46:51.616603",
     "status": "completed"
    },
    "tags": []
   },
   "outputs": [
    {
     "data": {
      "text/plain": [
       "{'min_child_weight': 5,\n",
       " 'max_depth': 10,\n",
       " 'learning_rate': 0.05,\n",
       " 'gamma': 0.1,\n",
       " 'colsample_bytree': 0.4}"
      ]
     },
     "execution_count": 18,
     "metadata": {},
     "output_type": "execute_result"
    }
   ],
   "source": [
    "random_search.best_params_"
   ]
  },
  {
   "cell_type": "code",
   "execution_count": 19,
   "id": "0f56c534",
   "metadata": {
    "execution": {
     "iopub.execute_input": "2022-09-09T13:46:51.645826Z",
     "iopub.status.busy": "2022-09-09T13:46:51.645327Z",
     "iopub.status.idle": "2022-09-09T13:46:51.650712Z",
     "shell.execute_reply": "2022-09-09T13:46:51.649772Z"
    },
    "papermill": {
     "duration": 0.014431,
     "end_time": "2022-09-09T13:46:51.653027",
     "exception": false,
     "start_time": "2022-09-09T13:46:51.638596",
     "status": "completed"
    },
    "tags": []
   },
   "outputs": [],
   "source": [
    "classifier=xgboost.XGBClassifier(base_score=0.5, booster='gbtree', colsample_bylevel=1,\n",
    "       colsample_bytree=0.4, gamma=0.1, learning_rate=0.25,\n",
    "       max_delta_step=0, max_depth=3, min_child_weight=7, missing=1,\n",
    "       n_estimators=100, n_jobs=1, nthread=None,\n",
    "       objective='binary:logistic', random_state=0, reg_alpha=0,\n",
    "       reg_lambda=1, scale_pos_weight=1, seed=None,\n",
    "       subsample=1)"
   ]
  },
  {
   "cell_type": "code",
   "execution_count": 20,
   "id": "dcdddaf3",
   "metadata": {
    "execution": {
     "iopub.execute_input": "2022-09-09T13:46:51.667574Z",
     "iopub.status.busy": "2022-09-09T13:46:51.667078Z",
     "iopub.status.idle": "2022-09-09T13:47:11.307954Z",
     "shell.execute_reply": "2022-09-09T13:47:11.307219Z"
    },
    "papermill": {
     "duration": 19.651046,
     "end_time": "2022-09-09T13:47:11.310139",
     "exception": false,
     "start_time": "2022-09-09T13:46:51.659093",
     "status": "completed"
    },
    "tags": []
   },
   "outputs": [],
   "source": [
    "from sklearn.model_selection import cross_val_score\n",
    "score=cross_val_score(classifier,X,Y,cv=10, error_score='raise')"
   ]
  },
  {
   "cell_type": "code",
   "execution_count": 21,
   "id": "885c31ff",
   "metadata": {
    "execution": {
     "iopub.execute_input": "2022-09-09T13:47:11.323731Z",
     "iopub.status.busy": "2022-09-09T13:47:11.323239Z",
     "iopub.status.idle": "2022-09-09T13:47:11.327916Z",
     "shell.execute_reply": "2022-09-09T13:47:11.327370Z"
    },
    "papermill": {
     "duration": 0.013543,
     "end_time": "2022-09-09T13:47:11.329860",
     "exception": false,
     "start_time": "2022-09-09T13:47:11.316317",
     "status": "completed"
    },
    "tags": []
   },
   "outputs": [
    {
     "data": {
      "text/plain": [
       "array([0.80666667, 0.81033333, 0.81566667, 0.80633333, 0.81833333,\n",
       "       0.82566667, 0.83666667, 0.83166667, 0.82866667, 0.82333333])"
      ]
     },
     "execution_count": 21,
     "metadata": {},
     "output_type": "execute_result"
    }
   ],
   "source": [
    "score"
   ]
  },
  {
   "cell_type": "code",
   "execution_count": 22,
   "id": "22409197",
   "metadata": {
    "execution": {
     "iopub.execute_input": "2022-09-09T13:47:11.343943Z",
     "iopub.status.busy": "2022-09-09T13:47:11.343402Z",
     "iopub.status.idle": "2022-09-09T13:47:11.347961Z",
     "shell.execute_reply": "2022-09-09T13:47:11.347407Z"
    },
    "papermill": {
     "duration": 0.013733,
     "end_time": "2022-09-09T13:47:11.349645",
     "exception": false,
     "start_time": "2022-09-09T13:47:11.335912",
     "status": "completed"
    },
    "tags": []
   },
   "outputs": [
    {
     "data": {
      "text/plain": [
       "0.8203333333333335"
      ]
     },
     "execution_count": 22,
     "metadata": {},
     "output_type": "execute_result"
    }
   ],
   "source": [
    "score.mean()"
   ]
  }
 ],
 "metadata": {
  "kernelspec": {
   "display_name": "Python 3",
   "language": "python",
   "name": "python3"
  },
  "language_info": {
   "codemirror_mode": {
    "name": "ipython",
    "version": 3
   },
   "file_extension": ".py",
   "mimetype": "text/x-python",
   "name": "python",
   "nbconvert_exporter": "python",
   "pygments_lexer": "ipython3",
   "version": "3.7.12"
  },
  "papermill": {
   "default_parameters": {},
   "duration": 75.982588,
   "end_time": "2022-09-09T13:47:13.975477",
   "environment_variables": {},
   "exception": null,
   "input_path": "__notebook__.ipynb",
   "output_path": "__notebook__.ipynb",
   "parameters": {},
   "start_time": "2022-09-09T13:45:57.992889",
   "version": "2.3.4"
  }
 },
 "nbformat": 4,
 "nbformat_minor": 5
}
